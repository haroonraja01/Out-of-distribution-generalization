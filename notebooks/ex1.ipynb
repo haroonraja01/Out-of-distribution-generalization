{
 "cells": [
  {
   "cell_type": "code",
   "execution_count": 1,
   "id": "e1563cef-bed8-4a95-b627-5929571e97c9",
   "metadata": {
    "tags": []
   },
   "outputs": [],
   "source": [
    "import os\n",
    "#import time\n",
    "from logging import getLogger\n",
    "#import warnings\n",
    "\n",
    "import numpy as np \n",
    "#from tqdm import tqdm\n",
    "import yaml \n",
    "\n",
    "import torch\n",
    "import torch.nn as nn\n",
    "#import torch.nn.parallel\n",
    "#import torch.backends.cudnn as cudnn\n",
    "import torch.optim\n",
    "import torch.utils.data as data\n",
    "import torch.distributed as dist\n",
    "import torch.autograd as autograd"
   ]
  },
  {
   "cell_type": "code",
   "execution_count": 2,
   "id": "167aa0ef-bdbc-49b6-a33c-b4954d674f71",
   "metadata": {
    "tags": []
   },
   "outputs": [],
   "source": [
    "%load_ext autoreload\n",
    "%autoreload 2\n",
    "import sys\n",
    "module_path = os.path.abspath(os.path.join('../src')) # or the path to your source code\n",
    "sys.path.insert(0, module_path)"
   ]
  },
  {
   "cell_type": "code",
   "execution_count": 12,
   "id": "441ec94d-90d4-47c4-a832-319cda5febf7",
   "metadata": {
    "tags": []
   },
   "outputs": [],
   "source": [
    "from utils import (\n",
    "\tbool_flag,\n",
    "\tinitialize_exp,\n",
    "\trestart_from_checkpoint,\n",
    "\tfix_random_seeds,\n",
    "\tAverageMeter,\n",
    "\tinit_distributed_mode,\n",
    "\taccuracy,\n",
    "\tadd_slurm_params,\n",
    "\tget_dataloader,\n",
    "\toptimizer_config,\n",
    ")\n",
    "\n",
    "from models import get_model, get_classifier, modelfusion\n",
    "from datasets import get_dataset"
   ]
  },
  {
   "cell_type": "code",
   "execution_count": null,
   "id": "aa6e39b2-ceb2-4d62-b53f-5f509311112c",
   "metadata": {},
   "outputs": [],
   "source": []
  }
 ],
 "metadata": {
  "kernelspec": {
   "display_name": "Python 3 (ipykernel)",
   "language": "python",
   "name": "python3"
  },
  "language_info": {
   "codemirror_mode": {
    "name": "ipython",
    "version": 3
   },
   "file_extension": ".py",
   "mimetype": "text/x-python",
   "name": "python",
   "nbconvert_exporter": "python",
   "pygments_lexer": "ipython3",
   "version": "3.10.13"
  }
 },
 "nbformat": 4,
 "nbformat_minor": 5
}
